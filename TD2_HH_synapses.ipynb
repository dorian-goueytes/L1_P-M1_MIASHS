{
  "nbformat": 4,
  "nbformat_minor": 0,
  "metadata": {
    "colab": {
      "provenance": [],
      "authorship_tag": "ABX9TyNJw6X63vqb4no1Ls3/nYd+",
      "include_colab_link": true
    },
    "kernelspec": {
      "name": "python3",
      "display_name": "Python 3"
    },
    "language_info": {
      "name": "python"
    }
  },
  "cells": [
    {
      "cell_type": "markdown",
      "metadata": {
        "id": "view-in-github",
        "colab_type": "text"
      },
      "source": [
        "<a href=\"https://colab.research.google.com/github/dorian-goueytes/L1_P-M1_MIASHS/blob/main/TD2_HH_synapses.ipynb\" target=\"_parent\"><img src=\"https://colab.research.google.com/assets/colab-badge.svg\" alt=\"Open In Colab\"/></a>"
      ]
    },
    {
      "cell_type": "code",
      "execution_count": null,
      "metadata": {
        "id": "WFSi410K0zcc",
        "collapsed": true,
        "cellView": "form"
      },
      "outputs": [],
      "source": [
        "# @title Installation des dépendances\n",
        "!pip install brian2\n",
        "!pip install brian2tools\n",
        "import brian2 as b2\n",
        "import matplotlib.pyplot as plt\n",
        "import numpy as np\n",
        "import brian2tools as b2t"
      ]
    },
    {
      "cell_type": "code",
      "source": [
        "# @title Fonctions pour injecter du courant et pour monitorer l'état de nos neurones\n",
        "def plot_data(ref, state_monitor, title=None):\n",
        "    \"\"\"Plots the state_monitor variables [\"vm\", \"I_e\", \"m\", \"n\", \"h\"] vs. time.\n",
        "\n",
        "    Args:\n",
        "        state_monitor (StateMonitor): the data to plot\n",
        "        title (string, optional): plot title to display\n",
        "    \"\"\"\n",
        "\n",
        "    fig, (ax1,ax2,ax3) = plt.subplots(3,1, figsize = (12,7))\n",
        "    ax1.plot(ref.t / b2.ms, ref.vm[0] / b2.mV, lw=2, color = 'b', linestyle = '-', alpha = 0.7)\n",
        "    #plt.plot(state_monitor.t / b2.ms, state_monitor.vm[0] / b2.mV, lw=2, alpha = 0.7)\n",
        "    ax1.set_xlabel(\"Temps [ms]\")\n",
        "    ax1.set_ylabel(\"Potentiel de Membrane [mV]\")\n",
        "    ax1.set_title(\"Neurone pré-synaptique\")\n",
        "    ax1.axhline(15, color = 'k', linestyle = '--')\n",
        "    #ax1.set_ylim(-20,110)\n",
        "    plt.grid()\n",
        "\n",
        "    ax3.plot(state_monitor.t / b2.ms, state_monitor.vm[0] / b2.mV, lw=2, color = 'r', alpha = 0.7)\n",
        "    ax3.set_xlabel(\"Temps [ms]\")\n",
        "    ax3.set_ylabel(\"Potentiel de Membrane [mV]\")\n",
        "    ax3.set_title(\"Neurone post-synaptique\")\n",
        "    ax3.axhline(15, color = 'k', linestyle = '--')\n",
        "    #ax3.set_ylim(-20,110)\n",
        "    plt.grid()\n",
        "\n",
        "    ax2.plot(ref.t / b2.ms, ref.I_e[0] / b2.uamp, lw=2, color = 'b', linestyle = '-', alpha = 0.7)\n",
        "    ax2.set_xlabel(\"Temps [ms]\")\n",
        "    ax2.set_ylabel(\"Courant Injecté [uA]\")\n",
        "    ax2.set_title(\"Stimulation des neurones présynaptiques\")\n",
        "\n",
        "\n",
        "    plt.tight_layout()\n",
        "    plt.show()\n",
        "\n",
        "def get_step_current(t_start, t_end, unit_time, amplitude, append_zero=True):\n",
        "\n",
        "    \"\"\"Creates a step current. If t_start == t_end, then a single\n",
        "    entry in the values array is set to amplitude.\n",
        "\n",
        "    Args:\n",
        "        t_start (int): start of the step\n",
        "        t_end (int): end of the step\n",
        "        unit_time (Brian2 unit): unit of t_start and t_end. e.g. 0.1*brian2.ms\n",
        "        amplitude (Quantity): amplitude of the step. e.g. 3.5*brian2.uamp\n",
        "        append_zero (bool, optional): if true, 0Amp is appended at t_end+1.\n",
        "        Without that trailing 0, Brian reads out the last value in the array (=amplitude) for all indices > t_end.\n",
        "\n",
        "    Returns:\n",
        "        TimedArray: Brian2.TimedArray\n",
        "    \"\"\"\n",
        "\n",
        "    assert isinstance(t_start, int), \"t_start_ms must be of type int\"\n",
        "    assert isinstance(t_end, int), \"t_end must be of type int\"\n",
        "    assert b2.units.fundamentalunits.have_same_dimensions(amplitude, b2.amp), \\\n",
        "        \"amplitude must have the dimension of current e.g. brian2.uamp\"\n",
        "    tmp_size = 1 + t_end  # +1 for t=0\n",
        "    if append_zero:\n",
        "        tmp_size += 1\n",
        "    tmp = np.zeros((tmp_size, 1)) * b2.amp\n",
        "    tmp[t_start: t_end + 1, 0] = amplitude\n",
        "    curr = b2.TimedArray(tmp, dt=1. * unit_time)\n",
        "    return curr"
      ],
      "metadata": {
        "id": "cST0WaU-pWta",
        "cellView": "form"
      },
      "execution_count": null,
      "outputs": []
    },
    {
      "cell_type": "code",
      "source": [
        "# @title Définition du modèle de Hogkin et Huxley\n",
        "def simulate_HH_neuron(input_current, simulation_time, kcurrent = None, N_pre = 1, N_post = 1, N_inib = 0, snp = True, weight = 0.05):\n",
        "\n",
        "    \"\"\"A Hodgkin-Huxley neuron implemented in Brian2.\n",
        "\n",
        "    Args:\n",
        "        input_current (TimedArray): Input current injected into the HH neuron\n",
        "        simulation_time (float): Simulation time [seconds]\n",
        "\n",
        "    Returns:\n",
        "        StateMonitor: Brian2 StateMonitor with recorded fields\n",
        "        [\"vm\", \"I_e\", \"m\", \"n\", \"h\"]\n",
        "    \"\"\"\n",
        "\n",
        "    # neuron parameters\n",
        "    El = 10.6 * b2.mV\n",
        "    if kcurrent == None:\n",
        "      EK = -12 * b2.mV\n",
        "    else:\n",
        "      EK = kcurrent* b2.mV\n",
        "    ENa = 115 * b2.mV\n",
        "    gl = 0.3 * b2.msiemens\n",
        "    gK = 36 * b2.msiemens\n",
        "    gNa = 120 * b2.msiemens\n",
        "\n",
        "    C = 1 * b2.ufarad\n",
        "\n",
        "    # forming HH model with differential equations\n",
        "    eqs = \"\"\"\n",
        "    I_e = input_current(t,i) : amp\n",
        "    membrane_Im = I_e + gNa*m**3*h*(ENa-vm) + gl*(El-vm) + gK*n**4*(EK-vm) : amp\n",
        "    alphah = .07*exp(-.05*vm/mV)/ms    : Hz\n",
        "    alpham = .1*(25*mV-vm)/(exp(2.5-.1*vm/mV)-1)/mV/ms : Hz\n",
        "    alphan = .01*(10*mV-vm)/(exp(1-.1*vm/mV)-1)/mV/ms : Hz\n",
        "    betah = 1./(1+exp(3.-.1*vm/mV))/ms : Hz\n",
        "    betam = 4*exp(-.0556*vm/mV)/ms : Hz\n",
        "    betan = .125*exp(-.0125*vm/mV)/ms : Hz\n",
        "    dh/dt = alphah*(1-h)-betah*h : 1\n",
        "    dm/dt = alpham*(1-m)-betam*m : 1\n",
        "    dn/dt = alphan*(1-n)-betan*n : 1\n",
        "    dvm/dt = membrane_Im/C : volt\n",
        "    \"\"\"\n",
        "\n",
        "        # forming HH model with differential equations\n",
        "    eqs2 = \"\"\"\n",
        "    membrane_Im = gNa*m**3*h*(ENa-vm) + gl*(El-vm) + gK*n**4*(EK-vm) : amp\n",
        "    alphah = .07*exp(-.05*vm/mV)/ms    : Hz\n",
        "    alpham = .1*(25*mV-vm)/(exp(2.5-.1*vm/mV)-1)/mV/ms : Hz\n",
        "    alphan = .01*(10*mV-vm)/(exp(1-.1*vm/mV)-1)/mV/ms : Hz\n",
        "    betah = 1./(1+exp(3.-.1*vm/mV))/ms : Hz\n",
        "    betam = 4*exp(-.0556*vm/mV)/ms : Hz\n",
        "    betan = .125*exp(-.0125*vm/mV)/ms : Hz\n",
        "    dh/dt = alphah*(1-h)-betah*h : 1\n",
        "    dm/dt = alpham*(1-m)-betam*m : 1\n",
        "    dn/dt = alphan*(1-n)-betan*n : 1\n",
        "    dvm/dt = membrane_Im/C : volt\n",
        "    \"\"\"\n",
        "\n",
        "\n",
        "    ## Presynaptic neurons\n",
        "    neuron_pre = b2.NeuronGroup(N_pre, eqs, threshold='vm > 15*mV', refractory= 'vm > 0*mV', method=\"exponential_euler\")\n",
        "    # parameter initialization\n",
        "    neuron_pre.vm = 0\n",
        "    neuron_pre.m = 0.05\n",
        "    neuron_pre.h = 0.60\n",
        "    neuron_pre.n = 0.32\n",
        "    ## Postsynaptic neurons\n",
        "    neuron_post = b2.NeuronGroup(N_post, eqs2, threshold='vm > 15*mV', refractory= 'vm > 0*mV', method=\"exponential_euler\")\n",
        "    # parameter initialization\n",
        "    neuron_post.vm = 0\n",
        "    neuron_post.m = 0.05\n",
        "    neuron_post.h = 0.60\n",
        "    neuron_post.n = 0.32\n",
        "\n",
        "    #synapses\n",
        "    if snp ==True:\n",
        "      syn=b2.Synapses(neuron_pre,neuron_post,model=\"w:1\",on_pre=\"m+=w\", delay=5*b2.ms, multisynaptic_index = 'test')\n",
        "      #for s in range(0, N_pre):\n",
        "      syn.connect(i = range(0, N_pre), j = 0)\n",
        "      syn.w =  weight*N_pre\n",
        "\n",
        "    # Synapses inhibitrices\n",
        "    if N_inib !=0 and snp ==True:\n",
        "      neuron_inhib = b2.NeuronGroup(N_inib, eqs, threshold='vm > 15*mV', refractory= 'vm > 0*mV', method=\"exponential_euler\")\n",
        "      neuron_inhib.vm = 0\n",
        "      neuron_inhib.m = 0.05\n",
        "      neuron_inhib.h = 0.60\n",
        "      neuron_inhib.n = 0.32\n",
        "      syn_inh=b2.Synapses(neuron_inhib,neuron_post,model=\"w:1\",on_pre=\"m+=w\", delay=5*b2.ms, multisynaptic_index = 'test')\n",
        "      syn_inh.connect(i = range(0, N_inib), j = 0)\n",
        "      syn_inh.w =  -weight*N_inib\n",
        "\n",
        "\n",
        "\n",
        "    # tracking parameters\n",
        "    st_mon_pre = b2.StateMonitor(neuron_pre, [\"vm\", \"I_e\",'m'], record=True)\n",
        "    st_mon_post = b2.StateMonitor(neuron_post, [\"vm\"], record=True)\n",
        "\n",
        "    # running the simulation\n",
        "    if snp == False:\n",
        "      hh_net = b2.Network(neuron_pre, neuron_post, st_mon_pre, st_mon_post)\n",
        "    if snp ==True:\n",
        "      hh_net = b2.Network(neuron_pre, neuron_post,syn, st_mon_pre, st_mon_post)\n",
        "    if N_inib !=0 and snp ==True:\n",
        "      hh_net.add(neuron_inhib)\n",
        "      hh_net.add(syn_inh)\n",
        "    #hh_net.add(st_mon)\n",
        "    hh_net.run(simulation_time)\n",
        "\n",
        "\n",
        "    return st_mon_pre, st_mon_post"
      ],
      "metadata": {
        "id": "QCAAaWs6ngAQ",
        "cellView": "form"
      },
      "execution_count": null,
      "outputs": []
    },
    {
      "cell_type": "markdown",
      "source": [
        "### Création de deux neurones de Hodgkin et Huxley\n",
        "Nous allons créer deux neurones et stimuler le premier\n",
        "\n",
        "**Q01: Suite à la stimulation qu'observez-vous pour l'activité des deux neurones? Pourquoi le neurone post-synaptique n'émet pas de potentiel d'action?**\n",
        "\n",
        "**Q02 : Interprétez ce qu'il se passe lorsque vous cochez la case 'synapse'**"
      ],
      "metadata": {
        "id": "SonhVgCWgB2M"
      }
    },
    {
      "cell_type": "code",
      "source": [
        "# @title Pré-requis\n",
        "current = get_step_current(10, 11, b2.ms, 7.6 * b2.uA)\n",
        "synapse = False #@param {type: \"boolean\"}\n",
        "pre, post= simulate_HH_neuron(current, 70 * b2.ms,-12,3,1,0, synapse,weight = 0.01)\n",
        "plot_data(pre,post, title=\"HH Neuron, step current\")"
      ],
      "metadata": {
        "id": "5aFSHzHr-XfC",
        "cellView": "form"
      },
      "execution_count": null,
      "outputs": []
    },
    {
      "cell_type": "markdown",
      "source": [
        "### Poids de la synapse\n",
        "Nous avons vu que malgré la présence d'une synapse un potentiel d'action au niveau du neurone pré-synaptique ne déclenche pas de PA au niveau post-synaptique.\n",
        "\n",
        "**Q03 : Pouvez-vous proposer une hypothèse expliquant cette observation**\n",
        "\n",
        "**Q04 : Que se passe-t-il lorsque vous manipulez la variable \"poid_synaptique\"? Quel phénomène observez-vous en l'absence de PA?**\n"
      ],
      "metadata": {
        "id": "mJnzKapYjiRo"
      }
    },
    {
      "cell_type": "code",
      "source": [
        "# @title Notion de poids Synaptique\n",
        "poids_synaptique = 0.01 # @param {type:\"slider\", min:0, max:0.2, step:0.01}\n",
        "pre, post= simulate_HH_neuron(current, 70 * b2.ms,-12,1,1,0, True, poids_synaptique)\n",
        "plot_data(pre,post, title=\"HH Neuron, step current\")"
      ],
      "metadata": {
        "id": "QPjdsaI7cvpz",
        "cellView": "form"
      },
      "execution_count": null,
      "outputs": []
    },
    {
      "cell_type": "markdown",
      "source": [
        "### Notion d'intégration synaptique\n",
        "Une des propriété principale d'un neurone est d'intégrer l'information de nombreuse sources différentes. Cela se matérialise par la capacité à recevoir et intégrer le signal de nombreuses synapses\n",
        "\n",
        "La variable neurones_presyn correspond au nombre de neurones faisant synapse avec notre neurone post-synaptique\n",
        "\n",
        "**Q05 : Pour une valeur faible de poids_synaptique, augmentez progressivement le nombre de neurons pré-synaptiques. Qu'observez-vous et pourquoi?**\n",
        "\n",
        "**Q06 : Quelle est la nature de l'interaction entre le poids synaptique et le nombre de neurone pré-synaptiques?**"
      ],
      "metadata": {
        "id": "Njcg4SAgl_ne"
      }
    },
    {
      "cell_type": "code",
      "source": [
        "# @title Variation du nombre de synapses\n",
        "poids_synaptique = 0.01 # @param {type:\"slider\", min:0, max:0.2, step:0.01}\n",
        "neurones_presyn = 4 # @param {type:\"slider\", min:1, max:20, step:1}\n",
        "pre, post= simulate_HH_neuron(current, 70 * b2.ms,-12,neurones_presyn,1,0, True, poids_synaptique)\n",
        "plot_data(pre,post, title=\"HH Neuron, step current\")"
      ],
      "metadata": {
        "id": "HRR51SkKl9ze",
        "cellView": "form"
      },
      "execution_count": null,
      "outputs": []
    },
    {
      "cell_type": "markdown",
      "source": [
        "### Neurone inhibiteur\n",
        "Une synapse ne donne pas nécessairement lieu à un potentiel post-synaptique excitateur (PPSE), mais peut aussi donner lieu à un potentiel post-synaptique inhibiteur (PPSI)\n",
        "\n",
        "Ici nous allons remplacer nos synapses excitatrice par des synapses inhibitrice\n",
        "\n",
        "**Q07 :Qu'observez-vous au niveau du potentiel membrainaire post-synaptique lorsque vous modulez le nombre de synapses inhibitrices? Quel est le nom de ce phénomène**\n",
        "\n",
        "**Q08 : Est-il possible de voir émerger un potentiel d'action dans ces conditions? Pourquoi?**"
      ],
      "metadata": {
        "id": "rWRQGrb_oGp8"
      }
    },
    {
      "cell_type": "code",
      "source": [
        "# @title Variation du nombre de synapses\n",
        "synapse_exc = 1 # @param {type:\"slider\", min:1, max:2, step:1}\n",
        "synapse_inh = 7 # @param {type:\"slider\", min:3, max:15, step:1}\n",
        "pre, post= simulate_HH_neuron(current, 70 * b2.ms,-12,synapse_exc,1,synapse_inh, True,)\n",
        "plot_data(pre,post, title=\"HH Neuron, step current\")"
      ],
      "metadata": {
        "id": "7XRTpJAcm1n9",
        "cellView": "form"
      },
      "execution_count": null,
      "outputs": []
    },
    {
      "cell_type": "markdown",
      "source": [
        "### Equilibre synaptique\n",
        "Nous allons maintenant manipuler l'équilibre entre le nombre de synapses inhibitrices et excitatrices.\n",
        "\n",
        "Notre objectif est de rétablir l'émergence d'un potentiel d'action\n",
        "\n",
        "**Q09 : Pour quel réglage des paramètre voyez vous re-émerger un potentiel d'action?**\n",
        "\n",
        "**Q10 : Comment interprétez vous ce résultat?**"
      ],
      "metadata": {
        "id": "XeNk7zkIqqYO"
      }
    },
    {
      "cell_type": "code",
      "source": [
        "# @title Variation du nombre de synapses\n",
        "synapse_exc = 1 # @param {type:\"slider\", min:1, max:15, step:1}\n",
        "synapse_inh = 1 # @param {type:\"slider\", min:1, max:15, step:1}\n",
        "pre, post= simulate_HH_neuron(current, 70 * b2.ms,-12,synapse_exc,1,synapse_inh, True,)\n",
        "plot_data(pre,post, title=\"HH Neuron, step current\")"
      ],
      "metadata": {
        "cellView": "form",
        "id": "DfXBsWOrqzSS"
      },
      "execution_count": null,
      "outputs": []
    },
    {
      "cell_type": "code",
      "source": [],
      "metadata": {
        "id": "jR3eqDRnq5dD"
      },
      "execution_count": null,
      "outputs": []
    }
  ]
}