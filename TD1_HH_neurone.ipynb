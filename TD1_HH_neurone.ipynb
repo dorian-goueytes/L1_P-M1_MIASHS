{
  "nbformat": 4,
  "nbformat_minor": 0,
  "metadata": {
    "colab": {
      "provenance": [],
      "authorship_tag": "ABX9TyOMIgRvEV4ibHC6aqR/uWVX",
      "include_colab_link": true
    },
    "kernelspec": {
      "name": "python3",
      "display_name": "Python 3"
    },
    "language_info": {
      "name": "python"
    }
  },
  "cells": [
    {
      "cell_type": "markdown",
      "metadata": {
        "id": "view-in-github",
        "colab_type": "text"
      },
      "source": [
        "<a href=\"https://colab.research.google.com/github/dorian-goueytes/L1_P-M1_MIASHS/blob/main/TD1_HH_neurone.ipynb\" target=\"_parent\"><img src=\"https://colab.research.google.com/assets/colab-badge.svg\" alt=\"Open In Colab\"/></a>"
      ]
    },
    {
      "cell_type": "code",
      "execution_count": null,
      "metadata": {
        "colab": {
          "base_uri": "https://localhost:8080/"
        },
        "id": "40WmL9Js4JHJ",
        "outputId": "c8fc0381-969e-4aa3-95e9-b65677b6238d",
        "collapsed": true,
        "cellView": "form"
      },
      "outputs": [
        {
          "output_type": "stream",
          "name": "stdout",
          "text": [
            "Requirement already satisfied: brian2 in /usr/local/lib/python3.10/dist-packages (2.5.4)\n",
            "Requirement already satisfied: numpy>=1.21 in /usr/local/lib/python3.10/dist-packages (from brian2) (1.26.4)\n",
            "Requirement already satisfied: cython>=0.29 in /usr/local/lib/python3.10/dist-packages (from brian2) (3.0.11)\n",
            "Requirement already satisfied: sympy>=1.2 in /usr/local/lib/python3.10/dist-packages (from brian2) (1.13.3)\n",
            "Requirement already satisfied: pyparsing in /usr/local/lib/python3.10/dist-packages (from brian2) (3.1.4)\n",
            "Requirement already satisfied: jinja2>=2.7 in /usr/local/lib/python3.10/dist-packages (from brian2) (3.1.4)\n",
            "Requirement already satisfied: setuptools>=61 in /usr/local/lib/python3.10/dist-packages (from brian2) (69.1.1)\n",
            "Requirement already satisfied: packaging in /usr/local/lib/python3.10/dist-packages (from brian2) (24.1)\n",
            "Requirement already satisfied: MarkupSafe>=2.0 in /usr/local/lib/python3.10/dist-packages (from jinja2>=2.7->brian2) (2.1.5)\n",
            "Requirement already satisfied: mpmath<1.4,>=1.1.0 in /usr/local/lib/python3.10/dist-packages (from sympy>=1.2->brian2) (1.3.0)\n"
          ]
        }
      ],
      "source": [
        "# @title Installation des dépendances\n",
        "!pip install brian2"
      ]
    },
    {
      "cell_type": "code",
      "source": [
        "# @title Importation des modules nécessaires\n",
        "import brian2 as b2\n",
        "import matplotlib.pyplot as plt\n",
        "import numpy as np\n",
        "#import neurodynex3.tools.input_factory as input_factory"
      ],
      "metadata": {
        "id": "j9S_ZFoK4Qo3",
        "collapsed": true,
        "cellView": "form"
      },
      "execution_count": null,
      "outputs": []
    },
    {
      "cell_type": "code",
      "source": [
        "# @title Création d'une fonction pour injecter du courant et pour monitorer l'état de nos neurones\n",
        "def plot_data(ref, state_monitor, title=None):\n",
        "    \"\"\"Plots the state_monitor variables [\"vm\", \"I_e\", \"m\", \"n\", \"h\"] vs. time.\n",
        "\n",
        "    Args:\n",
        "        state_monitor (StateMonitor): the data to plot\n",
        "        title (string, optional): plot title to display\n",
        "    \"\"\"\n",
        "\n",
        "    plt.subplot(211)\n",
        "    plt.plot(ref.t / b2.ms, ref.vm[0] / b2.mV, lw=2, color = 'k', linestyle = '--', alpha = 0.7)\n",
        "    plt.plot(state_monitor.t / b2.ms, state_monitor.vm[0] / b2.mV, lw=2, alpha = 0.7)\n",
        "\n",
        "    plt.xlabel(\"t [ms]\")\n",
        "    plt.ylabel(\"v [mV]\")\n",
        "    plt.grid()\n",
        "\n",
        "    #plt.subplot(312)\n",
        "\n",
        "    #plt.plot(state_monitor.t / b2.ms, state_monitor.m[0] / b2.volt, \"black\", lw=2)\n",
        "    #plt.plot(state_monitor.t / b2.ms, state_monitor.n[0] / b2.volt, \"blue\", lw=2)\n",
        "    #plt.plot(state_monitor.t / b2.ms, state_monitor.h[0] / b2.volt, \"red\", lw=2)\n",
        "    #plt.xlabel(\"t (ms)\")\n",
        "    #plt.ylabel(\"act./inact.\")\n",
        "    #plt.legend((\"m\", \"n\", \"h\"))\n",
        "    #plt.ylim((0, 1))\n",
        "    plt.grid()\n",
        "\n",
        "    plt.subplot(212)\n",
        "    plt.plot(ref.t / b2.ms, ref.I_e[0] / b2.uamp, lw=2, color = 'k', linestyle = '--', alpha = 0.7)\n",
        "    plt.plot(state_monitor.t / b2.ms, state_monitor.I_e[0] / b2.uamp, lw=2, alpha = 0.7)\n",
        "\n",
        "    if np.max(ref.t / b2.ms)>np.max(state_monitor.t / b2.ms):\n",
        "      plt.axis((\n",
        "          0,\n",
        "          np.max(ref.t / b2.ms),\n",
        "          min(ref.I_e[0] / b2.uamp) * 1.1,\n",
        "          max(ref.I_e[0] / b2.uamp) * 1.1\n",
        "      ))\n",
        "    if np.max(state_monitor.t / b2.ms)>=np.max(ref.t / b2.ms):\n",
        "      plt.axis((\n",
        "          0,\n",
        "          np.max(state_monitor.t / b2.ms),\n",
        "          min(state_monitor.I_e[0] / b2.uamp) * 1.1,\n",
        "          max(state_monitor.I_e[0] / b2.uamp) * 1.1\n",
        "      ))\n",
        "\n",
        "    plt.xlabel(\"t [ms]\")\n",
        "    plt.ylabel(\"I [micro A]\")\n",
        "    plt.grid()\n",
        "\n",
        "    if title is not None:\n",
        "        plt.suptitle(title)\n",
        "    plt.tight_layout()\n",
        "    plt.show()\n",
        "\n",
        "def get_step_current(t_start, t_end, unit_time, amplitude, append_zero=True):\n",
        "\n",
        "    \"\"\"Creates a step current. If t_start == t_end, then a single\n",
        "    entry in the values array is set to amplitude.\n",
        "\n",
        "    Args:\n",
        "        t_start (int): start of the step\n",
        "        t_end (int): end of the step\n",
        "        unit_time (Brian2 unit): unit of t_start and t_end. e.g. 0.1*brian2.ms\n",
        "        amplitude (Quantity): amplitude of the step. e.g. 3.5*brian2.uamp\n",
        "        append_zero (bool, optional): if true, 0Amp is appended at t_end+1.\n",
        "        Without that trailing 0, Brian reads out the last value in the array (=amplitude) for all indices > t_end.\n",
        "\n",
        "    Returns:\n",
        "        TimedArray: Brian2.TimedArray\n",
        "    \"\"\"\n",
        "\n",
        "    assert isinstance(t_start, int), \"t_start_ms must be of type int\"\n",
        "    assert isinstance(t_end, int), \"t_end must be of type int\"\n",
        "    assert b2.units.fundamentalunits.have_same_dimensions(amplitude, b2.amp), \\\n",
        "        \"amplitude must have the dimension of current e.g. brian2.uamp\"\n",
        "    tmp_size = 1 + t_end  # +1 for t=0\n",
        "    if append_zero:\n",
        "        tmp_size += 1\n",
        "    tmp = np.zeros((tmp_size, 1)) * b2.amp\n",
        "    tmp[t_start: t_end + 1, 0] = amplitude\n",
        "    curr = b2.TimedArray(tmp, dt=1. * unit_time)\n",
        "    return curr"
      ],
      "metadata": {
        "id": "o7DffVGn6Exp",
        "cellView": "form"
      },
      "execution_count": null,
      "outputs": []
    },
    {
      "cell_type": "code",
      "source": [
        "# @title Création d'un modèle de neurone Hogkin et Huxley\n",
        "def simulate_HH_neuron(input_current, simulation_time, kcurrent = None):\n",
        "\n",
        "    \"\"\"A Hodgkin-Huxley neuron implemented in Brian2.\n",
        "\n",
        "    Args:\n",
        "        input_current (TimedArray): Input current injected into the HH neuron\n",
        "        simulation_time (float): Simulation time [seconds]\n",
        "\n",
        "    Returns:\n",
        "        StateMonitor: Brian2 StateMonitor with recorded fields\n",
        "        [\"vm\", \"I_e\", \"m\", \"n\", \"h\"]\n",
        "    \"\"\"\n",
        "\n",
        "    # neuron parameters\n",
        "    El = 10.6 * b2.mV\n",
        "    if kcurrent == None:\n",
        "      EK = -12 * b2.mV\n",
        "    else:\n",
        "      EK = kcurrent* b2.mV\n",
        "    ENa = 115 * b2.mV\n",
        "    gl = 0.3 * b2.msiemens\n",
        "    gK = 36 * b2.msiemens\n",
        "    gNa = 120 * b2.msiemens\n",
        "    C = 1 * b2.ufarad\n",
        "\n",
        "\n",
        "\n",
        "\n",
        "    # forming HH model with differential equations\n",
        "    eqs = \"\"\"\n",
        "    I_e = input_current(t,i) : amp\n",
        "    membrane_Im = I_e + gNa*m**3*h*(ENa-vm) + gl*(El-vm) + gK*n**4*(EK-vm) : amp\n",
        "    alphah = .07*exp(-.05*vm/mV)/ms    : Hz\n",
        "    alpham = .1*(25*mV-vm)/(exp(2.5-.1*vm/mV)-1)/mV/ms : Hz\n",
        "    alphan = .01*(10*mV-vm)/(exp(1-.1*vm/mV)-1)/mV/ms : Hz\n",
        "    betah = 1./(1+exp(3.-.1*vm/mV))/ms : Hz\n",
        "    betam = 4*exp(-.0556*vm/mV)/ms : Hz\n",
        "    betan = .125*exp(-.0125*vm/mV)/ms : Hz\n",
        "    dh/dt = alphah*(1-h)-betah*h : 1\n",
        "    dm/dt = alpham*(1-m)-betam*m : 1\n",
        "    dn/dt = alphan*(1-n)-betan*n : 1\n",
        "    dvm/dt = membrane_Im/C : volt\n",
        "    \"\"\"\n",
        "\n",
        "    neuron = b2.NeuronGroup(1, eqs, method=\"exponential_euler\")\n",
        "\n",
        "    # parameter initialization\n",
        "    neuron.vm = 0\n",
        "\n",
        "    neuron.m = 0.05\n",
        "    neuron.h = 0.60\n",
        "    neuron.n = 0.32\n",
        "\n",
        "    # tracking parameters\n",
        "    st_mon = b2.StateMonitor(neuron, [\"vm\", \"I_e\", \"m\", \"n\", \"h\"], record=True)\n",
        "    #st_mon = b2.StateMonitor(neuron, [\"vm\", \"I_e\"], record=True)\n",
        "\n",
        "    # running the simulation\n",
        "    hh_net = b2.Network(neuron)\n",
        "    hh_net.add(st_mon)\n",
        "    hh_net.run(simulation_time)\n",
        "\n",
        "\n",
        "    return st_mon"
      ],
      "metadata": {
        "id": "5JNKhBaw4Qup",
        "cellView": "form"
      },
      "execution_count": null,
      "outputs": []
    },
    {
      "cell_type": "markdown",
      "source": [
        "### Création d'un neurone de référence\n",
        "Ce segment permet d'observer le comportement d'un neurone classique pour un courant injecté de 1ms et 7.2mA\n",
        "\n",
        "Ce neurone nous servira de comparaison pour les manipulations effectuées au cours du TD. Il sera toujours représenté par une courbe noire en pointillés"
      ],
      "metadata": {
        "id": "hi6vTf2mevBZ"
      }
    },
    {
      "cell_type": "code",
      "source": [
        "current = get_step_current(10, 11, b2.ms, 7.2 * b2.uA)\n",
        "ref = simulate_HH_neuron(current, 70 * b2.ms,-12)\n",
        "\n",
        "# @title Création d'un neurone référence\n",
        "\n",
        "current = get_step_current(10, 11, b2.ms, 7.2 * b2.uA)\n",
        "state_monitor = simulate_HH_neuron(current, 70 * b2.ms,-12)\n",
        "\n",
        "plot_data(ref,state_monitor, title=\"HH Neuron, step current\")"
      ],
      "metadata": {
        "cellView": "form",
        "id": "4z56niq3YzPZ"
      },
      "execution_count": null,
      "outputs": []
    },
    {
      "cell_type": "markdown",
      "source": [
        "### Manipulation de l'intensité du courant d'entrée (partie 1)\n",
        "L'objectif de cet exercice est de comprendre comment le courant injecté dans un neurone (input) affecte son comportement.\n",
        "1 paramètres peuvent être ajustés, I_amp\n",
        "\n",
        "\n",
        "*   I_amp correspond à l'intensité du courant injecté dans notre neurone\n",
        "\n",
        "**Q1: A quel élément présent dans le système nerveux correspond le courant injecté?**\n",
        "\n",
        "**Q2: Qu'observez-vous si vous augmentez la valeur de I_amp? Pouvez-vous interprêter ce résultat au regard du cours?**\n",
        "\n",
        "**Q3: Qu'observez-vous si vous diminuez considérablement I_amp? Quelle est votre interprétation de ce résultats?**\n",
        "\n",
        "**Q4: A partir de quelle intensité de courant observez-vous une bascule?**\n",
        "\n",
        "\n",
        "\n"
      ],
      "metadata": {
        "id": "ZLpC_UcIZLBr"
      }
    },
    {
      "cell_type": "code",
      "source": [
        "current = get_step_current(10, 11, b2.ms, 7.2 * b2.uA)\n",
        "ref = simulate_HH_neuron(current, 70 * b2.ms,-12)\n",
        "\n",
        "# @title Utilisez les sliders pour manipuler l'intensité du courant injecté\n",
        "I_amp = 7.2 # @param {type:\"slider\", min:0, max:24, step:0.1}\n",
        "\n",
        "#current_pulse_duration = 10 # @param {type:\"integer\"}\n",
        "#I_duration = 1 # @param {type:\"slider\", min:1, max:60, step:1}\n",
        "\n",
        "\n",
        "\n",
        "current = get_step_current(10, 10+1, b2.ms, I_amp * b2.uA)\n",
        "state_monitor = simulate_HH_neuron(current, 70 * b2.ms,-12)\n",
        "\n",
        "plot_data(ref,state_monitor, title=\"HH Neuron, step current\")"
      ],
      "metadata": {
        "cellView": "form",
        "id": "iQjSTHE5JlR1"
      },
      "execution_count": null,
      "outputs": []
    },
    {
      "cell_type": "markdown",
      "source": [
        "### Manipulation de la durée du courant d'entrée (partie 2)\n",
        "L'objectif de cet exercice est de comprendre comment le courant injecté dans un neurone (input) affect son comportement.\n",
        "Cette fois-ci 2 paramètres peuvent être ajustés, I_amp et I_duration\n",
        "\n",
        "\n",
        "*   I_amp correspond toujours à l'intensité du courant injecté dans notre neurone\n",
        "*   I_duration correspond à la durée du courant injecté\n",
        "\n",
        "**Q5: Que se passe-t-il lorsque vous augmentez la durée du courant injecté?** (Indice, réfléchissez en termes de nombre de potentiels d'action)\n",
        "\n",
        "**Q6: Pouvez-vous expliquer cette observation?**\n",
        "\n",
        "**Q7: Que se passe-t-il si vous augmentez simultanément l'intensité et la durée?**\n",
        "\n",
        "**Q8: Dans le cas ou nous injectons continuellement du courant, pourquoi notre neurone n'émet-il pas constamment des potentiels d'action?**\n",
        "\n",
        "**Q9: Comment s'appelle le phénomène empêchant notre neurone d'émettre continuellement des potentiels d'action?**\n",
        "\n",
        "\n",
        "\n"
      ],
      "metadata": {
        "id": "tJVvi-fmc5ZA"
      }
    },
    {
      "cell_type": "code",
      "source": [
        "current = get_step_current(10, 11, b2.ms, 7.2 * b2.uA)\n",
        "ref = simulate_HH_neuron(current, 70 * b2.ms,-12)\n",
        "\n",
        "# @title Utilisez les sliders pour manipuler l'intensité et la durée du courant injecté\n",
        "I_amp = 7.2 # @param {type:\"slider\", min:0, max:24, step:0.1}\n",
        "\n",
        "#current_pulse_duration = 10 # @param {type:\"integer\"}\n",
        "I_duration = 1 # @param {type:\"slider\", min:1, max:55, step:1}\n",
        "\n",
        "\n",
        "\n",
        "current = get_step_current(10, 10+I_duration, b2.ms, I_amp * b2.uA)\n",
        "state_monitor = simulate_HH_neuron(current, 70 * b2.ms,-12)\n",
        "\n",
        "plot_data(ref,state_monitor, title=\"HH Neuron, step current\")"
      ],
      "metadata": {
        "cellView": "form",
        "id": "cDMW9rZKc7kh"
      },
      "execution_count": null,
      "outputs": []
    },
    {
      "cell_type": "markdown",
      "source": [
        "### Manipulation du courant potassique\n",
        "Cette fois-ci nous allons essayer de comprendre l'effect du courant des ions potassiums sur l'activité de notre neurones.\n",
        "\n",
        "En plus de I_amp et de I_duration nous ajoutons un 3ème paramètre E_k, correspondant au courant potassique\n",
        "\n",
        "\n",
        "*   I_amp correspond toujours à l'intensité du courant injecté dans notre neurone\n",
        "*   I_duration correspond à la durée du courant injecté\n",
        "*   E_k quantité d'ion K+ pouvant quitter le milieu intracellulaire du neurone\n",
        "\n",
        "*Conseil: Pour commencer l'exercice laissez I_amp et I_duration sur leur valeur initiales et intéressez-vous uniquement à E_k*\n",
        "\n",
        "**Q10: Pouvez-vous expliquer cette observation?**\n",
        "\n",
        "**Q11: Que se passe-t-il si vous augmentez au maximum E_K? Pouvez-vous expliquer ce phénomène?**\n",
        "\n",
        "**Q12: Décrivez l'effet de place E_k entre la valeur maximale et la valeur de référence. Que se passe-t-il au niveau des potentiels d'action?**\n",
        "\n",
        "**Q13: Quel phénomène vu dans le cours semble dépendre de E_k?**\n",
        "\n",
        "\n",
        "\n"
      ],
      "metadata": {
        "id": "3A9uWuWvgHBy"
      }
    },
    {
      "cell_type": "code",
      "source": [
        "current = get_step_current(10, 60, b2.ms, 7.2 * b2.uA)\n",
        "ref = simulate_HH_neuron(current, 70 * b2.ms,-12)\n",
        "\n",
        "# @title Utilisez les sliders pour manipuler l'intensité et la durée du courant injecté\n",
        "I_amp = 7.2 # @param {type:\"slider\", min:0, max:24, step:0.1}\n",
        "\n",
        "#current_pulse_duration = 10 # @param {type:\"integer\"}\n",
        "I_duration = 50 # @param {type:\"slider\", min:1, max:55, step:1}\n",
        "\n",
        "#current_pulse_duration = 10 # @param {type:\"integer\"}\n",
        "E_k = 12 # @param {type:\"slider\", min:8, max:16, step:1}\n",
        "\n",
        "\n",
        "\n",
        "current = get_step_current(10, 10+I_duration, b2.ms, I_amp * b2.uA)\n",
        "state_monitor = simulate_HH_neuron(current, 70 * b2.ms,-E_k)\n",
        "\n",
        "plot_data(ref,state_monitor, title=\"HH Neuron, step current\")"
      ],
      "metadata": {
        "cellView": "form",
        "id": "eY1FuRbugLlK"
      },
      "execution_count": null,
      "outputs": []
    },
    {
      "cell_type": "code",
      "source": [],
      "metadata": {
        "id": "vl5rmRoC8McJ"
      },
      "execution_count": null,
      "outputs": []
    }
  ]
}